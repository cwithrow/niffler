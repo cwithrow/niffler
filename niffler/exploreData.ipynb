{
 "cells": [
  {
   "cell_type": "code",
   "execution_count": 14,
   "metadata": {
    "collapsed": true
   },
   "outputs": [],
   "source": [
    "import pandas as pd\n",
    "import os\n",
    "wdir = '/Users/candicewithrow/code/niffler/niffler'\n"
   ]
  },
  {
   "cell_type": "code",
   "execution_count": 2,
   "metadata": {},
   "outputs": [
    {
     "data": {
      "text/plain": [
       "'/Users/candicewithrow/code/niffler/niffler'"
      ]
     },
     "execution_count": 2,
     "metadata": {},
     "output_type": "execute_result"
    }
   ],
   "source": [
    "pwd"
   ]
  },
  {
   "cell_type": "code",
   "execution_count": 3,
   "metadata": {
    "collapsed": true
   },
   "outputs": [],
   "source": [
    "import json\n",
    "with open(os.path.join(wdir,'output/full_02_03_2019.json'), 'r') as f:\n",
    "                nested_data = json.load(f)\n",
    "           "
   ]
  },
  {
   "cell_type": "code",
   "execution_count": 17,
   "metadata": {
    "collapsed": true
   },
   "outputs": [],
   "source": [
    "posts=pd.read_json(os.path.join(wdir,'output/2019_02_28/posts2019_02_28.json'), \n",
    "                   orient='records')\n",
    "comments=pd.read_json(os.path.join(wdir,'output/2019_02_28/comments2019_02_28.json'), \n",
    "                      orient='records')\n",
    "replies=pd.read_json(os.path.join(wdir,'output/2019_02_28/replies2019_02_28.json'), orient='records')"
   ]
  },
  {
   "cell_type": "code",
   "execution_count": 16,
   "metadata": {},
   "outputs": [
    {
     "data": {
      "text/html": [
       "<div>\n",
       "<style>\n",
       "    .dataframe thead tr:only-child th {\n",
       "        text-align: right;\n",
       "    }\n",
       "\n",
       "    .dataframe thead th {\n",
       "        text-align: left;\n",
       "    }\n",
       "\n",
       "    .dataframe tbody tr th {\n",
       "        vertical-align: top;\n",
       "    }\n",
       "</style>\n",
       "<table border=\"1\" class=\"dataframe\">\n",
       "  <thead>\n",
       "    <tr style=\"text-align: right;\">\n",
       "      <th></th>\n",
       "      <th>post</th>\n",
       "      <th>post_id</th>\n",
       "      <th>updated_time</th>\n",
       "    </tr>\n",
       "  </thead>\n",
       "  <tbody>\n",
       "    <tr>\n",
       "      <th>0</th>\n",
       "      <td>So, do I have this correct?  The baking powder...</td>\n",
       "      <td>6.456587e+27</td>\n",
       "      <td>2019-02-26 14:17:57</td>\n",
       "    </tr>\n",
       "    <tr>\n",
       "      <th>1</th>\n",
       "      <td>Is there anything you would add to \\nthis docu...</td>\n",
       "      <td>6.456587e+27</td>\n",
       "      <td>2019-02-26 13:43:02</td>\n",
       "    </tr>\n",
       "    <tr>\n",
       "      <th>2</th>\n",
       "      <td>Can someone explain this to me please? MAgnesi...</td>\n",
       "      <td>6.456587e+27</td>\n",
       "      <td>2019-02-26 08:44:45</td>\n",
       "    </tr>\n",
       "    <tr>\n",
       "      <th>3</th>\n",
       "      <td>Couldn't see much about calamine lotion,is it ...</td>\n",
       "      <td>6.456587e+27</td>\n",
       "      <td>2019-02-26 02:56:59</td>\n",
       "    </tr>\n",
       "    <tr>\n",
       "      <th>4</th>\n",
       "      <td>I had an allergic reaction at the dentist, pro...</td>\n",
       "      <td>6.456587e+27</td>\n",
       "      <td>2019-02-25 21:26:08</td>\n",
       "    </tr>\n",
       "  </tbody>\n",
       "</table>\n",
       "</div>"
      ],
      "text/plain": [
       "                                                post       post_id  \\\n",
       "0  So, do I have this correct?  The baking powder...  6.456587e+27   \n",
       "1  Is there anything you would add to \\nthis docu...  6.456587e+27   \n",
       "2  Can someone explain this to me please? MAgnesi...  6.456587e+27   \n",
       "3  Couldn't see much about calamine lotion,is it ...  6.456587e+27   \n",
       "4  I had an allergic reaction at the dentist, pro...  6.456587e+27   \n",
       "\n",
       "         updated_time  \n",
       "0 2019-02-26 14:17:57  \n",
       "1 2019-02-26 13:43:02  \n",
       "2 2019-02-26 08:44:45  \n",
       "3 2019-02-26 02:56:59  \n",
       "4 2019-02-25 21:26:08  "
      ]
     },
     "execution_count": 16,
     "metadata": {},
     "output_type": "execute_result"
    }
   ],
   "source": [
    "posts.head(5)"
   ]
  },
  {
   "cell_type": "code",
   "execution_count": 18,
   "metadata": {},
   "outputs": [
    {
     "data": {
      "text/html": [
       "<div>\n",
       "<style>\n",
       "    .dataframe thead tr:only-child th {\n",
       "        text-align: right;\n",
       "    }\n",
       "\n",
       "    .dataframe thead th {\n",
       "        text-align: left;\n",
       "    }\n",
       "\n",
       "    .dataframe tbody tr th {\n",
       "        vertical-align: top;\n",
       "    }\n",
       "</style>\n",
       "<table border=\"1\" class=\"dataframe\">\n",
       "  <thead>\n",
       "    <tr style=\"text-align: right;\">\n",
       "      <th></th>\n",
       "      <th>comm_id</th>\n",
       "      <th>comment</th>\n",
       "      <th>created_time</th>\n",
       "      <th>post_id</th>\n",
       "    </tr>\n",
       "  </thead>\n",
       "  <tbody>\n",
       "    <tr>\n",
       "      <th>0</th>\n",
       "      <td>10155668654010856</td>\n",
       "      <td>I thought I suggested Hain, as I contacted the...</td>\n",
       "      <td>2018-08-25 14:59:05</td>\n",
       "      <td>6.456587e+27</td>\n",
       "    </tr>\n",
       "    <tr>\n",
       "      <th>1</th>\n",
       "      <td>10155668757310856</td>\n",
       "      <td>Most baking powder the issue is the corn starc...</td>\n",
       "      <td>2018-08-25 15:50:54</td>\n",
       "      <td>6.456587e+27</td>\n",
       "    </tr>\n",
       "    <tr>\n",
       "      <th>2</th>\n",
       "      <td>10155668870210856</td>\n",
       "      <td>So, Janice, do you mean whole milk straight fr...</td>\n",
       "      <td>2018-08-25 17:07:34</td>\n",
       "      <td>6.456587e+27</td>\n",
       "    </tr>\n",
       "    <tr>\n",
       "      <th>3</th>\n",
       "      <td>10156022084220856</td>\n",
       "      <td>I just bought the Bakewell product. It should ...</td>\n",
       "      <td>2019-02-21 20:26:50</td>\n",
       "      <td>6.456587e+27</td>\n",
       "    </tr>\n",
       "    <tr>\n",
       "      <th>4</th>\n",
       "      <td>10156026653210856</td>\n",
       "      <td>Following</td>\n",
       "      <td>2019-02-24 05:05:47</td>\n",
       "      <td>6.456587e+27</td>\n",
       "    </tr>\n",
       "  </tbody>\n",
       "</table>\n",
       "</div>"
      ],
      "text/plain": [
       "             comm_id                                            comment  \\\n",
       "0  10155668654010856  I thought I suggested Hain, as I contacted the...   \n",
       "1  10155668757310856  Most baking powder the issue is the corn starc...   \n",
       "2  10155668870210856  So, Janice, do you mean whole milk straight fr...   \n",
       "3  10156022084220856  I just bought the Bakewell product. It should ...   \n",
       "4  10156026653210856                                          Following   \n",
       "\n",
       "         created_time       post_id  \n",
       "0 2018-08-25 14:59:05  6.456587e+27  \n",
       "1 2018-08-25 15:50:54  6.456587e+27  \n",
       "2 2018-08-25 17:07:34  6.456587e+27  \n",
       "3 2019-02-21 20:26:50  6.456587e+27  \n",
       "4 2019-02-24 05:05:47  6.456587e+27  "
      ]
     },
     "execution_count": 18,
     "metadata": {},
     "output_type": "execute_result"
    }
   ],
   "source": [
    "comments.head()"
   ]
  },
  {
   "cell_type": "code",
   "execution_count": 19,
   "metadata": {},
   "outputs": [
    {
     "data": {
      "text/html": [
       "<div>\n",
       "<style>\n",
       "    .dataframe thead tr:only-child th {\n",
       "        text-align: right;\n",
       "    }\n",
       "\n",
       "    .dataframe thead th {\n",
       "        text-align: left;\n",
       "    }\n",
       "\n",
       "    .dataframe tbody tr th {\n",
       "        vertical-align: top;\n",
       "    }\n",
       "</style>\n",
       "<table border=\"1\" class=\"dataframe\">\n",
       "  <thead>\n",
       "    <tr style=\"text-align: right;\">\n",
       "      <th></th>\n",
       "      <th>comm_id</th>\n",
       "      <th>created_time</th>\n",
       "      <th>post_id</th>\n",
       "      <th>rep_id</th>\n",
       "      <th>reply</th>\n",
       "    </tr>\n",
       "  </thead>\n",
       "  <tbody>\n",
       "    <tr>\n",
       "      <th>0</th>\n",
       "      <td>10155668654010856</td>\n",
       "      <td>2018-08-25 15:14:12</td>\n",
       "      <td>6.456587e+27</td>\n",
       "      <td>10155668679545856</td>\n",
       "      <td>Yes, Liz, Hain is also on our shopping list.  ...</td>\n",
       "    </tr>\n",
       "    <tr>\n",
       "      <th>1</th>\n",
       "      <td>10155668654010856</td>\n",
       "      <td>2018-08-25 15:25:53</td>\n",
       "      <td>6.456587e+27</td>\n",
       "      <td>10155668708010856</td>\n",
       "      <td>Kathy O'Connor Van Corbach This is the email I...</td>\n",
       "    </tr>\n",
       "    <tr>\n",
       "      <th>2</th>\n",
       "      <td>10155668654010856</td>\n",
       "      <td>2018-08-25 16:16:15</td>\n",
       "      <td>6.456587e+27</td>\n",
       "      <td>10155668793820856</td>\n",
       "      <td>Yes, I found that response.  I was just thinki...</td>\n",
       "    </tr>\n",
       "    <tr>\n",
       "      <th>3</th>\n",
       "      <td>10155668654010856</td>\n",
       "      <td>2018-08-25 16:21:39</td>\n",
       "      <td>6.456587e+27</td>\n",
       "      <td>10155668800955856</td>\n",
       "      <td>Kathy O'Connor Van Corbach I have been that si...</td>\n",
       "    </tr>\n",
       "    <tr>\n",
       "      <th>4</th>\n",
       "      <td>10155668654010856</td>\n",
       "      <td>2018-08-25 17:01:33</td>\n",
       "      <td>6.456587e+27</td>\n",
       "      <td>10155668860965856</td>\n",
       "      <td>I'm definitely going to try it then, Liz!  Tha...</td>\n",
       "    </tr>\n",
       "  </tbody>\n",
       "</table>\n",
       "</div>"
      ],
      "text/plain": [
       "             comm_id        created_time       post_id             rep_id  \\\n",
       "0  10155668654010856 2018-08-25 15:14:12  6.456587e+27  10155668679545856   \n",
       "1  10155668654010856 2018-08-25 15:25:53  6.456587e+27  10155668708010856   \n",
       "2  10155668654010856 2018-08-25 16:16:15  6.456587e+27  10155668793820856   \n",
       "3  10155668654010856 2018-08-25 16:21:39  6.456587e+27  10155668800955856   \n",
       "4  10155668654010856 2018-08-25 17:01:33  6.456587e+27  10155668860965856   \n",
       "\n",
       "                                               reply  \n",
       "0  Yes, Liz, Hain is also on our shopping list.  ...  \n",
       "1  Kathy O'Connor Van Corbach This is the email I...  \n",
       "2  Yes, I found that response.  I was just thinki...  \n",
       "3  Kathy O'Connor Van Corbach I have been that si...  \n",
       "4  I'm definitely going to try it then, Liz!  Tha...  "
      ]
     },
     "execution_count": 19,
     "metadata": {},
     "output_type": "execute_result"
    }
   ],
   "source": [
    "replies.head()\n"
   ]
  },
  {
   "cell_type": "code",
   "execution_count": 20,
   "metadata": {
    "collapsed": true
   },
   "outputs": [],
   "source": [
    "full_df = pd.merge(posts, comments, on='post_id')\n"
   ]
  },
  {
   "cell_type": "code",
   "execution_count": 27,
   "metadata": {
    "collapsed": true
   },
   "outputs": [],
   "source": [
    "pd.set_option('display.float_format', lambda x: '%.3f' % x)"
   ]
  },
  {
   "cell_type": "code",
   "execution_count": 32,
   "metadata": {},
   "outputs": [
    {
     "data": {
      "text/plain": [
       "0       6456587085610155216258203648.000\n",
       "1       6456587085610155216258203648.000\n",
       "2       6456587085610155216258203648.000\n",
       "3       6456587085610155216258203648.000\n",
       "4       6456587085610155216258203648.000\n",
       "5       6456587085610155216258203648.000\n",
       "6       6456587085610155216258203648.000\n",
       "7       6456587085610155216258203648.000\n",
       "8       6456587085610155216258203648.000\n",
       "9       6456587085610155216258203648.000\n",
       "10      6456587085610155216258203648.000\n",
       "11      6456587085610155216258203648.000\n",
       "12      6456587085610155216258203648.000\n",
       "13      6456587085610155216258203648.000\n",
       "14      6456587085610155216258203648.000\n",
       "15      6456587085610155216258203648.000\n",
       "16      6456587085610155216258203648.000\n",
       "17      6456587085610155216258203648.000\n",
       "18      6456587085610155216258203648.000\n",
       "19      6456587085610155216258203648.000\n",
       "20      6456587085610155216258203648.000\n",
       "21      6456587085610155216258203648.000\n",
       "22      6456587085610155216258203648.000\n",
       "23      6456587085610155216258203648.000\n",
       "24      6456587085610155216258203648.000\n",
       "25      6456587085610155216258203648.000\n",
       "26      6456587085610155216258203648.000\n",
       "27      6456587085610155216258203648.000\n",
       "28      6456587085610155216258203648.000\n",
       "29      6456587085610155216258203648.000\n",
       "                      ...               \n",
       "18193   6456587085610156315769831424.000\n",
       "18194   6456587085610156315769831424.000\n",
       "18195   6456587085610156315769831424.000\n",
       "18196   6456587085610156315769831424.000\n",
       "18197   6456587085610156315769831424.000\n",
       "18198   6456587085610156315769831424.000\n",
       "18199   6456587085610156315769831424.000\n",
       "18200   6456587085610156315769831424.000\n",
       "18201   6456587085610156315769831424.000\n",
       "18202   6456587085610156315769831424.000\n",
       "18203   6456587085610156315769831424.000\n",
       "18204   6456587085610156315769831424.000\n",
       "18205   6456587085610156315769831424.000\n",
       "18206   6456587085610156315769831424.000\n",
       "18207   6456587085610156315769831424.000\n",
       "18208   6456587085610156315769831424.000\n",
       "18209   6456587085610156315769831424.000\n",
       "18210   6456587085610156315769831424.000\n",
       "18211   6456587085610156315769831424.000\n",
       "18212   6456587085610156315769831424.000\n",
       "18213   6456587085610156315769831424.000\n",
       "18214   6456587085610156315769831424.000\n",
       "18215   6456587085610156315769831424.000\n",
       "18216   6456587085610156315769831424.000\n",
       "18217   6456587085610156315769831424.000\n",
       "18218   6456587085610156315769831424.000\n",
       "18219   6456587085610156315769831424.000\n",
       "18220   6456587085610156315769831424.000\n",
       "18221   6456587085610151917723320320.000\n",
       "18222   6456587085610151917723320320.000\n",
       "Name: post_id, Length: 18223, dtype: float64"
      ]
     },
     "execution_count": 32,
     "metadata": {},
     "output_type": "execute_result"
    }
   ],
   "source": [
    "full_df['post_id']"
   ]
  },
  {
   "cell_type": "code",
   "execution_count": 12,
   "metadata": {},
   "outputs": [
    {
     "data": {
      "text/html": [
       "<div>\n",
       "<style>\n",
       "    .dataframe thead tr:only-child th {\n",
       "        text-align: right;\n",
       "    }\n",
       "\n",
       "    .dataframe thead th {\n",
       "        text-align: left;\n",
       "    }\n",
       "\n",
       "    .dataframe tbody tr th {\n",
       "        vertical-align: top;\n",
       "    }\n",
       "</style>\n",
       "<table border=\"1\" class=\"dataframe\">\n",
       "  <thead>\n",
       "    <tr style=\"text-align: right;\">\n",
       "      <th></th>\n",
       "      <th>cid</th>\n",
       "      <th>created_time</th>\n",
       "      <th>message</th>\n",
       "      <th>replies</th>\n",
       "      <th>post_id</th>\n",
       "    </tr>\n",
       "  </thead>\n",
       "  <tbody>\n",
       "    <tr>\n",
       "      <th>0</th>\n",
       "      <td>10155966481665857</td>\n",
       "      <td>2019-01-24T20:05:45+0000</td>\n",
       "      <td>Not ocular but yes migraines are my primary re...</td>\n",
       "      <td>[{'message': 'Clare Ross same', 'created_time'...</td>\n",
       "      <td>64565870856_10155966469605857</td>\n",
       "    </tr>\n",
       "    <tr>\n",
       "      <th>1</th>\n",
       "      <td>10155966792785857</td>\n",
       "      <td>2019-01-24T22:58:51+0000</td>\n",
       "      <td>I  have  ocular  migraines  occasionally,  but...</td>\n",
       "      <td>NaN</td>\n",
       "      <td>64565870856_10155966469605857</td>\n",
       "    </tr>\n",
       "    <tr>\n",
       "      <th>2</th>\n",
       "      <td>10155966795795857</td>\n",
       "      <td>2019-01-24T23:02:44+0000</td>\n",
       "      <td>My ocular migraines decreased significantly af...</td>\n",
       "      <td>NaN</td>\n",
       "      <td>64565870856_10155966469605857</td>\n",
       "    </tr>\n",
       "  </tbody>\n",
       "</table>\n",
       "</div>"
      ],
      "text/plain": [
       "                 cid              created_time  \\\n",
       "0  10155966481665857  2019-01-24T20:05:45+0000   \n",
       "1  10155966792785857  2019-01-24T22:58:51+0000   \n",
       "2  10155966795795857  2019-01-24T23:02:44+0000   \n",
       "\n",
       "                                             message  \\\n",
       "0  Not ocular but yes migraines are my primary re...   \n",
       "1  I  have  ocular  migraines  occasionally,  but...   \n",
       "2  My ocular migraines decreased significantly af...   \n",
       "\n",
       "                                             replies  \\\n",
       "0  [{'message': 'Clare Ross same', 'created_time'...   \n",
       "1                                                NaN   \n",
       "2                                                NaN   \n",
       "\n",
       "                         post_id  \n",
       "0  64565870856_10155966469605857  \n",
       "1  64565870856_10155966469605857  \n",
       "2  64565870856_10155966469605857  "
      ]
     },
     "execution_count": 12,
     "metadata": {},
     "output_type": "execute_result"
    }
   ],
   "source": [
    "from pandas.io.json import json_normalize\n",
    "posts = json_normalize(nested_data)[['post_id','message','updated_time']]\n",
    "comments = json_normalize(nested_data, record_path='comments', meta=['post_id'])\n",
    "comments.head(3)"
   ]
  },
  {
   "cell_type": "code",
   "execution_count": 8,
   "metadata": {
    "scrolled": true
   },
   "outputs": [
    {
     "data": {
      "text/html": [
       "<div>\n",
       "<style>\n",
       "    .dataframe thead tr:only-child th {\n",
       "        text-align: right;\n",
       "    }\n",
       "\n",
       "    .dataframe thead th {\n",
       "        text-align: left;\n",
       "    }\n",
       "\n",
       "    .dataframe tbody tr th {\n",
       "        vertical-align: top;\n",
       "    }\n",
       "</style>\n",
       "<table border=\"1\" class=\"dataframe\">\n",
       "  <thead>\n",
       "    <tr style=\"text-align: right;\">\n",
       "      <th></th>\n",
       "      <th>message_x</th>\n",
       "      <th>message_y</th>\n",
       "      <th>created_time</th>\n",
       "      <th>updated_time</th>\n",
       "    </tr>\n",
       "  </thead>\n",
       "  <tbody>\n",
       "    <tr>\n",
       "      <th>0</th>\n",
       "      <td>Do any of you get ocular migraines? Any relati...</td>\n",
       "      <td>Not ocular but yes migraines are my primary re...</td>\n",
       "      <td>2019-01-24T20:05:45+0000</td>\n",
       "      <td>2019-02-02T19:04:06+0000</td>\n",
       "    </tr>\n",
       "    <tr>\n",
       "      <th>1</th>\n",
       "      <td>Do any of you get ocular migraines? Any relati...</td>\n",
       "      <td>I  have  ocular  migraines  occasionally,  but...</td>\n",
       "      <td>2019-01-24T22:58:51+0000</td>\n",
       "      <td>2019-02-02T19:04:06+0000</td>\n",
       "    </tr>\n",
       "    <tr>\n",
       "      <th>2</th>\n",
       "      <td>Do any of you get ocular migraines? Any relati...</td>\n",
       "      <td>My ocular migraines decreased significantly af...</td>\n",
       "      <td>2019-01-24T23:02:44+0000</td>\n",
       "      <td>2019-02-02T19:04:06+0000</td>\n",
       "    </tr>\n",
       "    <tr>\n",
       "      <th>3</th>\n",
       "      <td>Do any of you get ocular migraines? Any relati...</td>\n",
       "      <td>My daughter’s primary reaction to sulfites is ...</td>\n",
       "      <td>2019-01-24T23:56:29+0000</td>\n",
       "      <td>2019-02-02T19:04:06+0000</td>\n",
       "    </tr>\n",
       "    <tr>\n",
       "      <th>4</th>\n",
       "      <td>Do any of you get ocular migraines? Any relati...</td>\n",
       "      <td>I used to get ocular migraines but haven’t had...</td>\n",
       "      <td>2019-01-25T00:44:44+0000</td>\n",
       "      <td>2019-02-02T19:04:06+0000</td>\n",
       "    </tr>\n",
       "  </tbody>\n",
       "</table>\n",
       "</div>"
      ],
      "text/plain": [
       "                                           message_x  \\\n",
       "0  Do any of you get ocular migraines? Any relati...   \n",
       "1  Do any of you get ocular migraines? Any relati...   \n",
       "2  Do any of you get ocular migraines? Any relati...   \n",
       "3  Do any of you get ocular migraines? Any relati...   \n",
       "4  Do any of you get ocular migraines? Any relati...   \n",
       "\n",
       "                                           message_y  \\\n",
       "0  Not ocular but yes migraines are my primary re...   \n",
       "1  I  have  ocular  migraines  occasionally,  but...   \n",
       "2  My ocular migraines decreased significantly af...   \n",
       "3  My daughter’s primary reaction to sulfites is ...   \n",
       "4  I used to get ocular migraines but haven’t had...   \n",
       "\n",
       "               created_time              updated_time  \n",
       "0  2019-01-24T20:05:45+0000  2019-02-02T19:04:06+0000  \n",
       "1  2019-01-24T22:58:51+0000  2019-02-02T19:04:06+0000  \n",
       "2  2019-01-24T23:02:44+0000  2019-02-02T19:04:06+0000  \n",
       "3  2019-01-24T23:56:29+0000  2019-02-02T19:04:06+0000  \n",
       "4  2019-01-25T00:44:44+0000  2019-02-02T19:04:06+0000  "
      ]
     },
     "execution_count": 8,
     "metadata": {},
     "output_type": "execute_result"
    }
   ],
   "source": [
    "full_df = pd.merge(posts, comments, on='post_id')\n",
    "full_df[['message_x','message_y', 'created_time', 'updated_time']].head(5)"
   ]
  },
  {
   "cell_type": "code",
   "execution_count": 13,
   "metadata": {},
   "outputs": [
    {
     "data": {
      "text/html": [
       "<div>\n",
       "<style>\n",
       "    .dataframe thead tr:only-child th {\n",
       "        text-align: right;\n",
       "    }\n",
       "\n",
       "    .dataframe thead th {\n",
       "        text-align: left;\n",
       "    }\n",
       "\n",
       "    .dataframe tbody tr th {\n",
       "        vertical-align: top;\n",
       "    }\n",
       "</style>\n",
       "<table border=\"1\" class=\"dataframe\">\n",
       "  <thead>\n",
       "    <tr style=\"text-align: right;\">\n",
       "      <th></th>\n",
       "      <th>message_x</th>\n",
       "      <th>message_y</th>\n",
       "      <th>post_updated</th>\n",
       "      <th>message_created</th>\n",
       "    </tr>\n",
       "  </thead>\n",
       "  <tbody>\n",
       "    <tr>\n",
       "      <th>0</th>\n",
       "      <td>Do any of you get ocular migraines? Any relati...</td>\n",
       "      <td>Not ocular but yes migraines are my primary re...</td>\n",
       "      <td>2019-02-02 19:04:06</td>\n",
       "      <td>2019-01-24 20:05:45</td>\n",
       "    </tr>\n",
       "    <tr>\n",
       "      <th>1</th>\n",
       "      <td>Do any of you get ocular migraines? Any relati...</td>\n",
       "      <td>I  have  ocular  migraines  occasionally,  but...</td>\n",
       "      <td>2019-02-02 19:04:06</td>\n",
       "      <td>2019-01-24 22:58:51</td>\n",
       "    </tr>\n",
       "  </tbody>\n",
       "</table>\n",
       "</div>"
      ],
      "text/plain": [
       "                                           message_x  \\\n",
       "0  Do any of you get ocular migraines? Any relati...   \n",
       "1  Do any of you get ocular migraines? Any relati...   \n",
       "\n",
       "                                           message_y        post_updated  \\\n",
       "0  Not ocular but yes migraines are my primary re... 2019-02-02 19:04:06   \n",
       "1  I  have  ocular  migraines  occasionally,  but... 2019-02-02 19:04:06   \n",
       "\n",
       "      message_created  \n",
       "0 2019-01-24 20:05:45  \n",
       "1 2019-01-24 22:58:51  "
      ]
     },
     "execution_count": 13,
     "metadata": {},
     "output_type": "execute_result"
    }
   ],
   "source": [
    "full_df['post_updated']=pd.to_datetime(full_df['updated_time'])\n",
    "full_df['message_created']=pd.to_datetime(full_df['created_time'])\n",
    "full_df[['message_x','message_y', 'post_updated', 'message_created']].head(2)"
   ]
  },
  {
   "cell_type": "code",
   "execution_count": 10,
   "metadata": {},
   "outputs": [
    {
     "data": {
      "text/plain": [
       "0    02-02-2019\n",
       "1    02-02-2019\n",
       "2    02-02-2019\n",
       "3    02-02-2019\n",
       "4    02-02-2019\n",
       "Name: updated_time, dtype: object"
      ]
     },
     "execution_count": 10,
     "metadata": {},
     "output_type": "execute_result"
    }
   ],
   "source": [
    "full_df['updated_time'].apply(lambda x:pd.to_datetime(x).date().strftime('%m-%d-%Y')).head()\n"
   ]
  },
  {
   "cell_type": "code",
   "execution_count": null,
   "metadata": {
    "collapsed": true
   },
   "outputs": [],
   "source": []
  }
 ],
 "metadata": {
  "kernelspec": {
   "display_name": "Python 3",
   "language": "python",
   "name": "python3"
  },
  "language_info": {
   "codemirror_mode": {
    "name": "ipython",
    "version": 3
   },
   "file_extension": ".py",
   "mimetype": "text/x-python",
   "name": "python",
   "nbconvert_exporter": "python",
   "pygments_lexer": "ipython3",
   "version": "3.6.1"
  }
 },
 "nbformat": 4,
 "nbformat_minor": 2
}
