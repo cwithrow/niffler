{
 "cells": [
  {
   "cell_type": "code",
   "execution_count": 1,
   "metadata": {
    "collapsed": true
   },
   "outputs": [],
   "source": [
    "import pandas as pd\n",
    "import os\n",
    "wdir = '/Users/candicewithrow/code/niffler/niffler'\n"
   ]
  },
  {
   "cell_type": "code",
   "execution_count": 2,
   "metadata": {},
   "outputs": [
    {
     "data": {
      "text/plain": [
       "'/Users/candicewithrow/code/niffler/niffler'"
      ]
     },
     "execution_count": 2,
     "metadata": {},
     "output_type": "execute_result"
    }
   ],
   "source": [
    "pwd"
   ]
  },
  {
   "cell_type": "code",
   "execution_count": 3,
   "metadata": {
    "collapsed": true
   },
   "outputs": [],
   "source": [
    "import json\n",
    "with open(os.path.join(wdir,'output/full_02_03_2019.json'), 'r') as f:\n",
    "                nested_data = json.load(f)\n",
    "           "
   ]
  },
  {
   "cell_type": "code",
   "execution_count": 4,
   "metadata": {
    "collapsed": true
   },
   "outputs": [],
   "source": [
    "for rec in nested_data:\n",
    "    rec['post_id'] = rec['id']\n",
    "    rec.pop('id', None)\n",
    "    for c in rec['comments']:\n",
    "        c['cid'] = c['id']\n",
    "        c.pop('id', None)\n",
    "        if 'replies' in c.keys():\n",
    "            for r in c['replies']:\n",
    "                if 'id' in r.keys():\n",
    "                    r['rid'] = r['id']\n",
    "                    r.pop('id', None)\n",
    "    "
   ]
  },
  {
   "cell_type": "code",
   "execution_count": 5,
   "metadata": {},
   "outputs": [
    {
     "data": {
      "text/plain": [
       "[{'comments': [{'cid': '10155966481665857',\n",
       "    'created_time': '2019-01-24T20:05:45+0000',\n",
       "    'message': 'Not ocular but yes migraines are my primary reaction to sulphites. Best wishes',\n",
       "    'replies': [{'created_time': '2019-01-25T10:57:54+0000',\n",
       "      'message': 'Clare Ross same',\n",
       "      'rid': '10155967531485857'}]},\n",
       "   {'cid': '10155966792785857',\n",
       "    'created_time': '2019-01-24T22:58:51+0000',\n",
       "    'message': 'I  have  ocular  migraines  occasionally,  but  never  thought  to  link  them  to  sulfites.  I  do  remember  once  when  it  happened  i I was  getting  over  a  cold.  I  do  get  headaches  that  can  progress  to  migraines  from  certain  sulfites.'},\n",
       "   {'cid': '10155966795795857',\n",
       "    'created_time': '2019-01-24T23:02:44+0000',\n",
       "    'message': 'My ocular migraines decreased significantly after cutting out sulfites, and migraines are a sure thing if I happen to eat them. I have meds and migraine contacts to cope'},\n",
       "   {'cid': '10155966868725857',\n",
       "    'created_time': '2019-01-24T23:56:29+0000',\n",
       "    'message': 'My daughter’s primary reaction to sulfites is migraines but not ocular. I have a far less reaction to sulfites than she does but I do occasionally have ocular migraines. I have not been able to find any specific cause for the ocular migraines.'},\n",
       "   {'cid': '10155966929875857',\n",
       "    'created_time': '2019-01-25T00:44:44+0000',\n",
       "    'message': 'I used to get ocular migraines but haven’t had one for quite a while. I wonder if there was a sulfite connection?'},\n",
       "   {'cid': '10155967125205857',\n",
       "    'created_time': '2019-01-25T03:26:04+0000',\n",
       "    'message': 'I suffered with ocular migraines until I was 50 and figured out what was triggering them . Only 2 since and both times the restaurant got it wrong . I am on Zyrtec 10 mg once a day . I get horrible sinus pressure when I don’t watch my sulfite intake or forget to take the Zyrtec.  Much better quality of life for sure now !!'},\n",
       "   {'cid': '10155967166485857',\n",
       "    'created_time': '2019-01-25T04:02:42+0000',\n",
       "    'message': 'I have had ocular migraines. They are so scary. The first time it happened, I thought I was having a stroke. For me, I don’t think it was sulfite related.'},\n",
       "   {'cid': '10155967177960857',\n",
       "    'created_time': '2019-01-25T04:13:37+0000',\n",
       "    'message': 'It has been a while but I get them.  Usually happened when I was extra stressed.'},\n",
       "   {'cid': '10155967225890857',\n",
       "    'created_time': '2019-01-25T04:45:07+0000',\n",
       "    'message': 'I get them when reacting.'},\n",
       "   {'cid': '10155967256665857',\n",
       "    'created_time': '2019-01-25T05:03:44+0000',\n",
       "    'message': 'I get them couple times a year and have discovered no triggers except possibly bright sunlight. Never thought about them being from a sulfite reaction. I’ll pay attention next time.  Mine aren’t flashing lights, they are little zigzags lights that increas in size as they move from the top of mynfield of vision and drop down til they are gone in about 20 minutes.',\n",
       "    'replies': [{'created_time': '2019-01-26T13:35:17+0000',\n",
       "      'message': \"Brenda Anderson O'Halloran I get flashing zig zag lines too that last 5-10 minutes...I get a dull headache and siz .\",\n",
       "      'rid': '10155969521460857'},\n",
       "     {'created_time': '2019-01-26T14:26:23+0000',\n",
       "      'message': 'Cat Cuzzi sounds like an ocular migraine to me',\n",
       "      'rid': '10155969674125857'}]},\n",
       "   {'cid': '10155967265845857',\n",
       "    'created_time': '2019-01-25T05:11:51+0000',\n",
       "    'message': 'I get them too!'},\n",
       "   {'cid': '10155967387005857',\n",
       "    'created_time': '2019-01-25T07:49:28+0000',\n",
       "    'message': 'I had my first one for a couple of years this week. For me I don’t think mine are connected to sulphites, but definitely low blood sugar and stress, not just either one, but all in combination, it’s as if my body goes in to overload when too much is going on. I hope you feel better soon.'},\n",
       "   {'cid': '10155967805240857',\n",
       "    'created_time': '2019-01-25T14:41:02+0000',\n",
       "    'message': \"I get them too.  I have tried to identify the triggers but it gets complicated. Amitriptyline  helps in low doses and muscle relaxers also in low doses. Not painful but can't see very well.\"},\n",
       "   {'cid': '10155967837625857',\n",
       "    'created_time': '2019-01-25T15:05:05+0000',\n",
       "    'message': 'My son has been complaining of \"light flashes\" for years. Just this week his neurologist mentioned it may be ocular migraines and we are going to start him on amitriptyline to see if it helps.'},\n",
       "   {'cid': '10155967862625857',\n",
       "    'created_time': '2019-01-25T15:20:07+0000',\n",
       "    'message': 'My triggers are sulfites . The ocular migraines are my first sign of the sulfite reaction, then on to the full on severe headache and severe vomiting that lasts up to 6-8 hours .  Then I am “hung over “ for about 3-4 hours followed by completely fine .'},\n",
       "   {'cid': '10155968069755857',\n",
       "    'created_time': '2019-01-25T17:45:54+0000',\n",
       "    'message': \"I had them in relation to salicylates I think. Last time was the absolute worst and it was a reaction to Pepto Bismol. I know because I stupidly took a little again later and my headache came back immediately. That time I had swirling, flashing, bright colors, horrible headache and felt nauseated. The visual stuff freaks me out every time! I haven't had it at all since I figured out my diet.\"},\n",
       "   {'cid': '10155968814760857',\n",
       "    'created_time': '2019-01-26T02:28:07+0000',\n",
       "    'message': 'Yes and yes. Diesel exhaust is the worst culprit.'},\n",
       "   {'cid': '10155972969785857',\n",
       "    'created_time': '2019-01-28T02:05:57+0000',\n",
       "    'message': 'Mine seem to be triggered by low blood sugar and/or bright lights, but only in conjunction with fluctuating hormones. I haven’t thought about a sulfite connection but will look for it, too.'},\n",
       "   {'cid': '10155976849625857',\n",
       "    'created_time': '2019-01-30T05:12:53+0000',\n",
       "    'message': 'I get ocular migraines, itchy skin, burning tongue, swollen lips, bloating, tests have identified sulfite sensitivity and msg, struggling to figure out what to eat',\n",
       "    'replies': [{'created_time': '2019-01-30T05:22:06+0000',\n",
       "      'message': 'Stella Papanicolaou I’m right there with you. Sulfites, salicylates, etc. I don’t know where to start.',\n",
       "      'rid': '10155976861755857'}]},\n",
       "   {'cid': '10155984353285857',\n",
       "    'created_time': '2019-02-02T19:04:05+0000',\n",
       "    'message': \"Just has my second ocular migraine this week. Both times I had been exposed to strong smells, was stressed out over something and hadn't had enough to drink. I react to smells and had a headache for a week before it happened. When having this last one I had a lot of pressure on the side of my face next to my eye. Oh and by the way get your eyes checked if you have new floaters, blurred vision or any other strange vision problems. My husband has had a bunch of tears that were repaired and didn't keep up with his recheck appointments, he ended up with a detached retina. He's only 58. Now he had to lay on his stomach all but 6 hours a day and pray it heals well.\"}],\n",
       "  'message': 'Do any of you get ocular migraines? Any relationship to sulfites? Or detoxing? Or low blood sugar? I have had two today, which is unusual I just get the flashing lights on the periphery of my vision and they last about 45 minutes. No headaches.Thanks for any help.',\n",
       "  'post_id': '64565870856_10155966469605857',\n",
       "  'updated_time': '2019-02-02T19:04:06+0000'},\n",
       " {'comments': [{'cid': '10155982524235857',\n",
       "    'created_time': '2019-02-01T21:57:41+0000',\n",
       "    'message': 'Make shure you air your rooms and spray bleach on any signs of black mould in bathroom and anywhere else in your house. Avoid humid environment.',\n",
       "    'replies': [{'created_time': '2019-02-01T22:43:03+0000',\n",
       "      'message': 'Mike Balasa funny you should say so . I’ve recently been diagnosed with mold / biotoxin illness after blood work , which is causing my Lyme disease & bartonella to not heal, low immune function etc  . We’re getting the house tested & assesed hopefully soon . Don’t know if it’s a factor in my breathing but the cold weather is when I really suffer , especially outside or in the car .',\n",
       "      'rid': '10155982595745857'},\n",
       "     {'created_time': '2019-02-01T22:46:53+0000',\n",
       "      'message': 'Change your filter in a car as well, takes seconds',\n",
       "      'rid': '10155982601225857'},\n",
       "     {'created_time': '2019-02-01T22:48:14+0000',\n",
       "      'message': 'Get some salbutamol as well if you getting problems with breathing',\n",
       "      'rid': '10155982602995857'},\n",
       "     {'created_time': '2019-02-01T22:49:01+0000',\n",
       "      'message': 'Mike Balasa yes I do even twice last year I did because the pollen I felt was giving me allergic attacks with ac on, but don’t think it made a difference . Spring - fall is terrible for me in the car .',\n",
       "      'rid': '10155982604130857'},\n",
       "     {'created_time': '2019-02-01T22:55:03+0000',\n",
       "      'message': 'Do you tried Montelukast tablets? It’s works really well.',\n",
       "      'rid': '10155982612270857'},\n",
       "     {'created_time': '2019-02-01T23:07:15+0000',\n",
       "      'message': 'Mike Balasa yep been on for a while now . Just the winter kills me',\n",
       "      'rid': '10155982635685857'},\n",
       "     {'created_time': '2019-02-01T23:09:37+0000',\n",
       "      'message': 'Try do not dry your washing inside, get dehumidifier',\n",
       "      'rid': '10155982640400857'},\n",
       "     {'created_time': '2019-02-01T23:52:24+0000',\n",
       "      'message': 'Mike Balasa ya I was told to get a dehumidifier if the hygrometer reads over 50 but it hasn’t .... don’t dry clothes in dryer you mean ? Why ?',\n",
       "      'rid': '10155982692360857'}]},\n",
       "   {'cid': '10155984119510857',\n",
       "    'created_time': '2019-02-02T17:02:12+0000',\n",
       "    'message': 'I do the duo neb and have no issues.  My doc said it’s ions and shouldn’t bother me.... it doesn’t and recently tried albuterol by itself in my nebulizer....again no issues.'}],\n",
       "  'message': 'Anyone know of any safe nebulizer treatments that doesn’t contain sulfuric acid ? This winter is making my breathing harsh and my dr would like me to try it / thanks',\n",
       "  'post_id': '64565870856_10155980284090857',\n",
       "  'updated_time': '2019-02-02T17:02:13+0000'},\n",
       " {'comments': [{'cid': '10155982249645857',\n",
       "    'created_time': '2019-02-01T19:19:09+0000',\n",
       "    'message': 'I looked up the ingredients and personally I would react to a lot of these things. Enriched flour, malted ingredients and folic acid.',\n",
       "    'replies': [{'created_time': '2019-02-01T19:33:28+0000',\n",
       "      'message': 'Thank you! I am normally OK with those things. I was wondering if there is cross contamination from maybe being baked next to or on the same surface as the sun-dried tomato ones? Or maybe it was that the person had handled those or vinaigrette prior to my order.',\n",
       "      'rid': '10155982284600857'}]},\n",
       "   {'cid': '10155982486495857',\n",
       "    'created_time': '2019-02-01T21:37:49+0000',\n",
       "    'message': 'I’m ok with them'}],\n",
       "  'message': \"Has anyone had problems with Bruegger's plain bagels?  I had some kind of reaction today.  I thought they were sulfite free, but maybe it was cross-contamination?\",\n",
       "  'post_id': '64565870856_10155982197680857',\n",
       "  'updated_time': '2019-02-01T21:37:49+0000'},\n",
       " {'comments': [{'cid': '10155976718890857',\n",
       "    'created_time': '2019-01-30T03:06:16+0000',\n",
       "    'message': 'yes'},\n",
       "   {'cid': '10155976771880857',\n",
       "    'created_time': '2019-01-30T03:56:23+0000',\n",
       "    'message': 'Yes'},\n",
       "   {'cid': '10155976850860857',\n",
       "    'created_time': '2019-01-30T05:14:29+0000',\n",
       "    'message': 'Yes!'},\n",
       "   {'cid': '10155976875015857',\n",
       "    'created_time': '2019-01-30T05:37:05+0000',\n",
       "    'message': 'Look into histamine intolerance.  Most of what you listed is high histamine, regardless of sulfites.\\n\\nhttp://healthypixels.com/?p=1044',\n",
       "    'replies': [{'created_time': '2019-01-30T10:16:28+0000',\n",
       "      'message': 'Thank you, Leanne. I did histamine test and it was negative, so I have to exclude that.',\n",
       "      'rid': '10155977090505857'}]},\n",
       "   {'cid': '10155977149390857',\n",
       "    'created_time': '2019-01-30T11:27:49+0000',\n",
       "    'message': 'Yes'},\n",
       "   {'cid': '10155977183655857',\n",
       "    'created_time': '2019-01-30T11:49:25+0000',\n",
       "    'message': \"I reckon it's both HIT and preservatives .... whether the test showed it or not. According to all the tests for everything I am I great health.... if only that were true. It's like walking through treacle every day to balance my eating and some days I win and other days I lose but don't always know why!\",\n",
       "    'replies': [{'created_time': '2019-01-30T15:16:13+0000',\n",
       "      'message': 'Same here- I feel better since avoiding trigger foods, however, some days I still struggle. Thank you for your reply.',\n",
       "      'rid': '10155977438710857'}]},\n",
       "   {'cid': '10155977529440857',\n",
       "    'created_time': '2019-01-30T15:52:52+0000',\n",
       "    'message': 'Yes, and the sulfites are not only in the foods and drinks but also in personal care products, cleaning products and environmental.'},\n",
       "   {'cid': '10155978042385857',\n",
       "    'created_time': '2019-01-30T21:44:08+0000',\n",
       "    'message': 'Yes, also swelling.'},\n",
       "   {'cid': '10155978765860857',\n",
       "    'created_time': '2019-01-31T06:32:18+0000',\n",
       "    'message': 'Would recommend avoiding sulphur related E numbers E150 and E220 to E228 😁😁',\n",
       "    'replies': [{'created_time': '2019-01-31T10:45:06+0000',\n",
       "      'message': 'Thank you Gareth. I was aware of E220 to E228, but not E150.',\n",
       "      'rid': '10155979002425857'}]},\n",
       "   {'cid': '10155980644845857',\n",
       "    'created_time': '2019-02-01T03:02:18+0000',\n",
       "    'message': 'Dental work?',\n",
       "    'replies': [{'created_time': '2019-02-01T08:54:42+0000',\n",
       "      'message': 'Yes, I had some dental work done. Why would it matter?',\n",
       "      'rid': '10155981139455857'}]}],\n",
       "  'message': 'Hello everyone. For years I would experience symptoms which usually appeared shortly after eating. I did allergy and intolerance tests and excluded problematic foods- gluten, dairy and eggs. However, my symptoms persevered. And that when I noticed reaction after eating fried potatoes, drinking fizzy drinks, mayo, lemon juice, gluten free bolognese cooked with red wine and some gluten free products with sulphur dioxide.  My symptoms are heart palpitations, brain fog, nervousness, paranoid thinking, upset tummy, flushed face, dry mouth. Could other relate to that?',\n",
       "  'post_id': '64565870856_10155976658325857',\n",
       "  'updated_time': '2019-02-01T08:54:46+0000'}]"
      ]
     },
     "execution_count": 5,
     "metadata": {},
     "output_type": "execute_result"
    }
   ],
   "source": [
    "nested_data"
   ]
  },
  {
   "cell_type": "code",
   "execution_count": 6,
   "metadata": {
    "collapsed": true
   },
   "outputs": [],
   "source": [
    "posts=pd.read_json(os.path.join(wdir,'output/full_02_03_2019.json'), orient='records')"
   ]
  },
  {
   "cell_type": "code",
   "execution_count": 12,
   "metadata": {},
   "outputs": [
    {
     "data": {
      "text/html": [
       "<div>\n",
       "<style>\n",
       "    .dataframe thead tr:only-child th {\n",
       "        text-align: right;\n",
       "    }\n",
       "\n",
       "    .dataframe thead th {\n",
       "        text-align: left;\n",
       "    }\n",
       "\n",
       "    .dataframe tbody tr th {\n",
       "        vertical-align: top;\n",
       "    }\n",
       "</style>\n",
       "<table border=\"1\" class=\"dataframe\">\n",
       "  <thead>\n",
       "    <tr style=\"text-align: right;\">\n",
       "      <th></th>\n",
       "      <th>cid</th>\n",
       "      <th>created_time</th>\n",
       "      <th>message</th>\n",
       "      <th>replies</th>\n",
       "      <th>post_id</th>\n",
       "    </tr>\n",
       "  </thead>\n",
       "  <tbody>\n",
       "    <tr>\n",
       "      <th>0</th>\n",
       "      <td>10155966481665857</td>\n",
       "      <td>2019-01-24T20:05:45+0000</td>\n",
       "      <td>Not ocular but yes migraines are my primary re...</td>\n",
       "      <td>[{'message': 'Clare Ross same', 'created_time'...</td>\n",
       "      <td>64565870856_10155966469605857</td>\n",
       "    </tr>\n",
       "    <tr>\n",
       "      <th>1</th>\n",
       "      <td>10155966792785857</td>\n",
       "      <td>2019-01-24T22:58:51+0000</td>\n",
       "      <td>I  have  ocular  migraines  occasionally,  but...</td>\n",
       "      <td>NaN</td>\n",
       "      <td>64565870856_10155966469605857</td>\n",
       "    </tr>\n",
       "    <tr>\n",
       "      <th>2</th>\n",
       "      <td>10155966795795857</td>\n",
       "      <td>2019-01-24T23:02:44+0000</td>\n",
       "      <td>My ocular migraines decreased significantly af...</td>\n",
       "      <td>NaN</td>\n",
       "      <td>64565870856_10155966469605857</td>\n",
       "    </tr>\n",
       "  </tbody>\n",
       "</table>\n",
       "</div>"
      ],
      "text/plain": [
       "                 cid              created_time  \\\n",
       "0  10155966481665857  2019-01-24T20:05:45+0000   \n",
       "1  10155966792785857  2019-01-24T22:58:51+0000   \n",
       "2  10155966795795857  2019-01-24T23:02:44+0000   \n",
       "\n",
       "                                             message  \\\n",
       "0  Not ocular but yes migraines are my primary re...   \n",
       "1  I  have  ocular  migraines  occasionally,  but...   \n",
       "2  My ocular migraines decreased significantly af...   \n",
       "\n",
       "                                             replies  \\\n",
       "0  [{'message': 'Clare Ross same', 'created_time'...   \n",
       "1                                                NaN   \n",
       "2                                                NaN   \n",
       "\n",
       "                         post_id  \n",
       "0  64565870856_10155966469605857  \n",
       "1  64565870856_10155966469605857  \n",
       "2  64565870856_10155966469605857  "
      ]
     },
     "execution_count": 12,
     "metadata": {},
     "output_type": "execute_result"
    }
   ],
   "source": [
    "from pandas.io.json import json_normalize\n",
    "posts = json_normalize(nested_data)[['post_id','message','updated_time']]\n",
    "comments = json_normalize(nested_data, record_path='comments', meta=['post_id'])\n",
    "comments.head(3)"
   ]
  },
  {
   "cell_type": "code",
   "execution_count": 8,
   "metadata": {
    "scrolled": true
   },
   "outputs": [
    {
     "data": {
      "text/html": [
       "<div>\n",
       "<style>\n",
       "    .dataframe thead tr:only-child th {\n",
       "        text-align: right;\n",
       "    }\n",
       "\n",
       "    .dataframe thead th {\n",
       "        text-align: left;\n",
       "    }\n",
       "\n",
       "    .dataframe tbody tr th {\n",
       "        vertical-align: top;\n",
       "    }\n",
       "</style>\n",
       "<table border=\"1\" class=\"dataframe\">\n",
       "  <thead>\n",
       "    <tr style=\"text-align: right;\">\n",
       "      <th></th>\n",
       "      <th>message_x</th>\n",
       "      <th>message_y</th>\n",
       "      <th>created_time</th>\n",
       "      <th>updated_time</th>\n",
       "    </tr>\n",
       "  </thead>\n",
       "  <tbody>\n",
       "    <tr>\n",
       "      <th>0</th>\n",
       "      <td>Do any of you get ocular migraines? Any relati...</td>\n",
       "      <td>Not ocular but yes migraines are my primary re...</td>\n",
       "      <td>2019-01-24T20:05:45+0000</td>\n",
       "      <td>2019-02-02T19:04:06+0000</td>\n",
       "    </tr>\n",
       "    <tr>\n",
       "      <th>1</th>\n",
       "      <td>Do any of you get ocular migraines? Any relati...</td>\n",
       "      <td>I  have  ocular  migraines  occasionally,  but...</td>\n",
       "      <td>2019-01-24T22:58:51+0000</td>\n",
       "      <td>2019-02-02T19:04:06+0000</td>\n",
       "    </tr>\n",
       "    <tr>\n",
       "      <th>2</th>\n",
       "      <td>Do any of you get ocular migraines? Any relati...</td>\n",
       "      <td>My ocular migraines decreased significantly af...</td>\n",
       "      <td>2019-01-24T23:02:44+0000</td>\n",
       "      <td>2019-02-02T19:04:06+0000</td>\n",
       "    </tr>\n",
       "    <tr>\n",
       "      <th>3</th>\n",
       "      <td>Do any of you get ocular migraines? Any relati...</td>\n",
       "      <td>My daughter’s primary reaction to sulfites is ...</td>\n",
       "      <td>2019-01-24T23:56:29+0000</td>\n",
       "      <td>2019-02-02T19:04:06+0000</td>\n",
       "    </tr>\n",
       "    <tr>\n",
       "      <th>4</th>\n",
       "      <td>Do any of you get ocular migraines? Any relati...</td>\n",
       "      <td>I used to get ocular migraines but haven’t had...</td>\n",
       "      <td>2019-01-25T00:44:44+0000</td>\n",
       "      <td>2019-02-02T19:04:06+0000</td>\n",
       "    </tr>\n",
       "  </tbody>\n",
       "</table>\n",
       "</div>"
      ],
      "text/plain": [
       "                                           message_x  \\\n",
       "0  Do any of you get ocular migraines? Any relati...   \n",
       "1  Do any of you get ocular migraines? Any relati...   \n",
       "2  Do any of you get ocular migraines? Any relati...   \n",
       "3  Do any of you get ocular migraines? Any relati...   \n",
       "4  Do any of you get ocular migraines? Any relati...   \n",
       "\n",
       "                                           message_y  \\\n",
       "0  Not ocular but yes migraines are my primary re...   \n",
       "1  I  have  ocular  migraines  occasionally,  but...   \n",
       "2  My ocular migraines decreased significantly af...   \n",
       "3  My daughter’s primary reaction to sulfites is ...   \n",
       "4  I used to get ocular migraines but haven’t had...   \n",
       "\n",
       "               created_time              updated_time  \n",
       "0  2019-01-24T20:05:45+0000  2019-02-02T19:04:06+0000  \n",
       "1  2019-01-24T22:58:51+0000  2019-02-02T19:04:06+0000  \n",
       "2  2019-01-24T23:02:44+0000  2019-02-02T19:04:06+0000  \n",
       "3  2019-01-24T23:56:29+0000  2019-02-02T19:04:06+0000  \n",
       "4  2019-01-25T00:44:44+0000  2019-02-02T19:04:06+0000  "
      ]
     },
     "execution_count": 8,
     "metadata": {},
     "output_type": "execute_result"
    }
   ],
   "source": [
    "full_df = pd.merge(posts, comments, on='post_id')\n",
    "full_df[['message_x','message_y', 'created_time', 'updated_time']].head(5)"
   ]
  },
  {
   "cell_type": "code",
   "execution_count": 13,
   "metadata": {},
   "outputs": [
    {
     "data": {
      "text/html": [
       "<div>\n",
       "<style>\n",
       "    .dataframe thead tr:only-child th {\n",
       "        text-align: right;\n",
       "    }\n",
       "\n",
       "    .dataframe thead th {\n",
       "        text-align: left;\n",
       "    }\n",
       "\n",
       "    .dataframe tbody tr th {\n",
       "        vertical-align: top;\n",
       "    }\n",
       "</style>\n",
       "<table border=\"1\" class=\"dataframe\">\n",
       "  <thead>\n",
       "    <tr style=\"text-align: right;\">\n",
       "      <th></th>\n",
       "      <th>message_x</th>\n",
       "      <th>message_y</th>\n",
       "      <th>post_updated</th>\n",
       "      <th>message_created</th>\n",
       "    </tr>\n",
       "  </thead>\n",
       "  <tbody>\n",
       "    <tr>\n",
       "      <th>0</th>\n",
       "      <td>Do any of you get ocular migraines? Any relati...</td>\n",
       "      <td>Not ocular but yes migraines are my primary re...</td>\n",
       "      <td>2019-02-02 19:04:06</td>\n",
       "      <td>2019-01-24 20:05:45</td>\n",
       "    </tr>\n",
       "    <tr>\n",
       "      <th>1</th>\n",
       "      <td>Do any of you get ocular migraines? Any relati...</td>\n",
       "      <td>I  have  ocular  migraines  occasionally,  but...</td>\n",
       "      <td>2019-02-02 19:04:06</td>\n",
       "      <td>2019-01-24 22:58:51</td>\n",
       "    </tr>\n",
       "  </tbody>\n",
       "</table>\n",
       "</div>"
      ],
      "text/plain": [
       "                                           message_x  \\\n",
       "0  Do any of you get ocular migraines? Any relati...   \n",
       "1  Do any of you get ocular migraines? Any relati...   \n",
       "\n",
       "                                           message_y        post_updated  \\\n",
       "0  Not ocular but yes migraines are my primary re... 2019-02-02 19:04:06   \n",
       "1  I  have  ocular  migraines  occasionally,  but... 2019-02-02 19:04:06   \n",
       "\n",
       "      message_created  \n",
       "0 2019-01-24 20:05:45  \n",
       "1 2019-01-24 22:58:51  "
      ]
     },
     "execution_count": 13,
     "metadata": {},
     "output_type": "execute_result"
    }
   ],
   "source": [
    "full_df['post_updated']=pd.to_datetime(full_df['updated_time'])\n",
    "full_df['message_created']=pd.to_datetime(full_df['created_time'])\n",
    "full_df[['message_x','message_y', 'post_updated', 'message_created']].head(2)"
   ]
  },
  {
   "cell_type": "code",
   "execution_count": 10,
   "metadata": {},
   "outputs": [
    {
     "data": {
      "text/plain": [
       "0    02-02-2019\n",
       "1    02-02-2019\n",
       "2    02-02-2019\n",
       "3    02-02-2019\n",
       "4    02-02-2019\n",
       "Name: updated_time, dtype: object"
      ]
     },
     "execution_count": 10,
     "metadata": {},
     "output_type": "execute_result"
    }
   ],
   "source": [
    "full_df['updated_time'].apply(lambda x:pd.to_datetime(x).date().strftime('%m-%d-%Y')).head()\n"
   ]
  },
  {
   "cell_type": "code",
   "execution_count": null,
   "metadata": {
    "collapsed": true
   },
   "outputs": [],
   "source": []
  }
 ],
 "metadata": {
  "kernelspec": {
   "display_name": "Python 3",
   "language": "python",
   "name": "python3"
  },
  "language_info": {
   "codemirror_mode": {
    "name": "ipython",
    "version": 3
   },
   "file_extension": ".py",
   "mimetype": "text/x-python",
   "name": "python",
   "nbconvert_exporter": "python",
   "pygments_lexer": "ipython3",
   "version": "3.6.1"
  }
 },
 "nbformat": 4,
 "nbformat_minor": 2
}
